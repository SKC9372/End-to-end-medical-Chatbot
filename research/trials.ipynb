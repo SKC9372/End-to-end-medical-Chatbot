{
 "cells": [
  {
   "cell_type": "code",
   "execution_count": 1,
   "metadata": {},
   "outputs": [
    {
     "name": "stdout",
     "output_type": "stream",
     "text": [
      "OK\n"
     ]
    }
   ],
   "source": [
    "print(\"OK\")"
   ]
  },
  {
   "cell_type": "code",
   "execution_count": 2,
   "metadata": {},
   "outputs": [
    {
     "data": {
      "text/plain": [
       "'c:\\\\Users\\\\surya\\\\CampusX\\\\End-to-end-medical-chatbot\\\\research'"
      ]
     },
     "execution_count": 2,
     "metadata": {},
     "output_type": "execute_result"
    }
   ],
   "source": [
    "%pwd"
   ]
  },
  {
   "cell_type": "code",
   "execution_count": 3,
   "metadata": {},
   "outputs": [
    {
     "name": "stdout",
     "output_type": "stream",
     "text": [
      "c:\\Users\\surya\\CampusX\\End-to-end-medical-chatbot\n"
     ]
    }
   ],
   "source": [
    "%cd .."
   ]
  },
  {
   "cell_type": "code",
   "execution_count": 4,
   "metadata": {},
   "outputs": [
    {
     "data": {
      "text/plain": [
       "'c:\\\\Users\\\\surya\\\\CampusX\\\\End-to-end-medical-chatbot'"
      ]
     },
     "execution_count": 4,
     "metadata": {},
     "output_type": "execute_result"
    }
   ],
   "source": [
    "%pwd"
   ]
  },
  {
   "cell_type": "code",
   "execution_count": 5,
   "metadata": {},
   "outputs": [],
   "source": [
    "from langchain.document_loaders import PyPDFLoader,DirectoryLoader\n",
    "from langchain.text_splitter import RecursiveCharacterTextSplitter"
   ]
  },
  {
   "cell_type": "code",
   "execution_count": 6,
   "metadata": {},
   "outputs": [],
   "source": [
    "def load_pdf_file(data):\n",
    "    loader = DirectoryLoader(data,\n",
    "                             glob='*.pdf',\n",
    "                             loader_cls=PyPDFLoader)\n",
    "    document = loader.load()\n",
    "\n",
    "    return document"
   ]
  },
  {
   "cell_type": "code",
   "execution_count": 7,
   "metadata": {},
   "outputs": [],
   "source": [
    "extracted_data = load_pdf_file(data='Data/')"
   ]
  },
  {
   "cell_type": "code",
   "execution_count": 8,
   "metadata": {},
   "outputs": [
    {
     "data": {
      "text/plain": [
       "759"
      ]
     },
     "execution_count": 8,
     "metadata": {},
     "output_type": "execute_result"
    }
   ],
   "source": [
    "len(extracted_data)"
   ]
  },
  {
   "cell_type": "code",
   "execution_count": 9,
   "metadata": {},
   "outputs": [],
   "source": [
    "def text_split(extracted_data):\n",
    "    splitter = RecursiveCharacterTextSplitter(chunk_size = 1000, chunk_overlap = 100)\n",
    "    chunks = splitter.split_documents(extracted_data)\n",
    "\n",
    "    return chunks"
   ]
  },
  {
   "cell_type": "code",
   "execution_count": 10,
   "metadata": {},
   "outputs": [],
   "source": [
    "text_chunks = text_split(extracted_data)"
   ]
  },
  {
   "cell_type": "code",
   "execution_count": 11,
   "metadata": {},
   "outputs": [
    {
     "name": "stdout",
     "output_type": "stream",
     "text": [
      "Length of text chunks: 3745\n"
     ]
    }
   ],
   "source": [
    "print(f'Length of text chunks: {len(text_chunks)}')"
   ]
  },
  {
   "cell_type": "code",
   "execution_count": 12,
   "metadata": {},
   "outputs": [],
   "source": [
    "from dotenv import load_dotenv\n",
    "import os\n",
    "load_dotenv()\n",
    "GOOGLE_API_KEY = os.getenv(\"GOOGLE_API_KEY\")"
   ]
  },
  {
   "cell_type": "code",
   "execution_count": 13,
   "metadata": {},
   "outputs": [],
   "source": [
    "from langchain_google_genai import GoogleGenerativeAIEmbeddings\n",
    "\n",
    "embedding_model = GoogleGenerativeAIEmbeddings(model=\"models/embedding-001\")"
   ]
  },
  {
   "cell_type": "code",
   "execution_count": 14,
   "metadata": {},
   "outputs": [
    {
     "data": {
      "text/plain": [
       "768"
      ]
     },
     "execution_count": 14,
     "metadata": {},
     "output_type": "execute_result"
    }
   ],
   "source": [
    "len(embedding_model.embed_query('Hello'))"
   ]
  },
  {
   "cell_type": "code",
   "execution_count": 15,
   "metadata": {},
   "outputs": [],
   "source": [
    "load_dotenv()\n",
    "PINECONE_API_KEY = os.getenv(\"PINECONE_API_KEY\")"
   ]
  },
  {
   "cell_type": "code",
   "execution_count": 16,
   "metadata": {},
   "outputs": [],
   "source": [
    "from pinecone.grpc import PineconeGRPC as Pinecone \n",
    "from pinecone import ServerlessSpec\n",
    "\n",
    "pc = Pinecone(api_key=PINECONE_API_KEY)\n",
    "\n",
    "name = 'medicalbot'\n",
    "\n",
    "pc.create_index(\n",
    "    name=name,\n",
    "    dimension=768,\n",
    "    metric='cosine',\n",
    "    spec=ServerlessSpec(\n",
    "        cloud='aws',\n",
    "        region='us-east-1'\n",
    "    )\n",
    ")"
   ]
  },
  {
   "cell_type": "code",
   "execution_count": 20,
   "metadata": {},
   "outputs": [],
   "source": [
    "from langchain.vectorstores import Pinecone\n",
    "\n",
    "docsearch = Pinecone.from_documents(\n",
    "    documents = text_chunks,\n",
    "    index_name = name,\n",
    "    embedding = embedding_model\n",
    ")\n"
   ]
  },
  {
   "cell_type": "code",
   "execution_count": 21,
   "metadata": {},
   "outputs": [],
   "source": [
    "docretrieve = docsearch.from_existing_index(\n",
    "    index_name=name,\n",
    "    embedding=embedding_model\n",
    ")"
   ]
  },
  {
   "cell_type": "code",
   "execution_count": 22,
   "metadata": {},
   "outputs": [],
   "source": [
    "retriever = docretrieve.as_retriever(search_type = 'similarity',search_kwargs = {'k':5})"
   ]
  },
  {
   "cell_type": "code",
   "execution_count": 23,
   "metadata": {},
   "outputs": [],
   "source": [
    "retrived_docs = retriever.invoke(\"What is rosacea\")"
   ]
  },
  {
   "cell_type": "code",
   "execution_count": 24,
   "metadata": {},
   "outputs": [
    {
     "data": {
      "text/plain": [
       "[Document(metadata={'page': 425.0, 'source': 'Data\\\\The_GALE_ENCYCLOPEDIA_of_MEDICINE_SECOND.pdf'}, page_content='the irritation. Oral antihistamines are sometimes recom-\\nmended to alleviate itching, and antibiotics are pre-\\nscribed if the rash becomes infected. Medications taken\\nby mouth to relieve symptoms of dermatitis can make\\nskin red and scaly and cause hair loss.\\nKEY TERMS\\nAllergic reaction—An inappropriate or exaggerat-\\ned genetically determined reaction to a chemical\\nthat occurs only on the second or subsequent\\nexposures to the offending agent, after the first\\ncontact has sensitized the body.\\nCorticosteriod—A group of synthetic hormones\\nthat are used to prevent or reduce inflammation.\\nToxic effects may result from rapid withdrawal after\\nprolonged use or from continued use of large doses.\\nPatch test—A skin test that is done to identify aller-\\ngens. A suspected substance is applied to the skin.\\nAfter 24–48 hours, if the area is red and swollen,\\nthe test is positive for that substance. If no reaction\\noccurs, another substance is applied. This is con-'),\n",
       " Document(metadata={'page': 658.0, 'source': 'Data\\\\The_GALE_ENCYCLOPEDIA_of_MEDICINE_SECOND.pdf'}, page_content='ally of no benefit. Medication may need to be injected by\\nthe doctor into the chalazion or if that doesn’t help the\\nchalazion may need to be excised. If what appears to be a\\nchalazion recurs on the same site as any previous one, the\\npossibility of sebaceous gland carcinoma should be\\ninvestigated by biopsy.\\nBlepharitis\\nBlepharitis is treated with hot compresses, with\\nantibiotic ointment, and by cleaning the eyelids with a\\nmoist washcloth and then with baby shampoo. Good\\nhygiene is essential. If the blepharitis doesn’t clear up\\nwith treatment or if it seems to be a chronic problem, the\\npatient may have acnerosacea. These patients may need\\nto see a dermatologist as well.\\nEntropion and ectropion\\nBoth entropion and ectropion can be surgically cor-\\nrected. Prior to surgery, the lower lid of entropion can be\\ntaped down to keep the lashes off the eye, and both can be\\ntreated with lubricating drops to keep the cornea moist.\\nEyelid edema\\nPatients with swollen eyelids should contact their'),\n",
       " Document(metadata={'page': 262.0, 'source': 'Data\\\\The_GALE_ENCYCLOPEDIA_of_MEDICINE_SECOND.pdf'}, page_content='attacking various tissues and organs.\\nHereditary angioedema—A complement deficien-\\ncy characterized by lymphatic vessel blockages\\nthat cause temporary swelling (edema) of areas of\\nthe skin, mucous membranes, and, sometimes,\\ninternal organs.\\nLeucocyte adhesion deficiency syndrome—A\\ncomplement deficiency syndrome characterized\\nby recurrent infections of the skin, mucous mem-\\nbranes, and gastrointestinal tract and the absence\\nof pus formation. This disorder is sometimes\\napparent at birth when separation of the umbilical\\ncord takes longer than normal.\\nMeningitis—An inflammation of the lining sur-\\nrounding the brain and spinal cord.\\nParoxysmal nocturnal hemoglobinuria (PNH)—A\\nrare complement disorder characterized by\\nepisodes of red blood cell destruction (hemolysis)\\nand blood in the urine (hemoglobinuria) that is\\nworse at night.\\nSystemic lupus erythematosus—An autoimmune\\ndisease in which the immune system attacks the\\nbody’s connective tissue. A butterfly-shaped facial'),\n",
       " Document(metadata={'page': 423.0, 'source': 'Data\\\\The_GALE_ENCYCLOPEDIA_of_MEDICINE_SECOND.pdf'}, page_content='ton, DC 20005. (888) 357-7924. <http://www.psych.org>.\\nAmerican Psychological Association (APA). 750 First St. NE,\\nWashington, DC 20002-4242. (202) 336-5700. <http://\\nwww.apa.org>.\\nNational Alliance for the Mentally Ill (NAMI). Colonial Place\\nThree, 2107 Wilson Blvd., Ste. 300, Arlington, V A 22201-\\n3042. (800) 950-6264. <http://www.nami.org>.\\nNational Depressive and Manic-Depressive Association\\n(NDMDA). 730 N. Franklin St., Suite 501, Chicago, IL\\n60610. (800) 826-3632. <http://www.ndmda.org>.\\nNational Institute of Mental Health. Mental Health Public\\nInquiries, 5600 Fishers Lane, Room 15C-05, Rockville,\\nMD 20857. (888) 826-9438. <http://www.nimh.nih.gov>.\\nPaula Anne Ford-Martin\\nDermabrasion see Skin resurfacing\\nDermatitis\\nDefinition\\nDermatitis is a general term used to describe inflam-\\nmation of the skin.\\nDescription\\nMost types of dermatitis are characterized by an\\nitchy pink or red rash.\\nContact dermatitis is an allergic reaction to some-'),\n",
       " Document(metadata={'page': 736.0, 'source': 'Data\\\\The_GALE_ENCYCLOPEDIA_of_MEDICINE_SECOND.pdf'}, page_content='Multiple endocrine neoplasia—Abnormal tissue\\ngrowth on one or more of the endocrine (hor-\\nmone-secreting) glands.\\nPolycystic ovary disease—A condition in which a\\nwoman has little or no menstruation, is infertile,\\nhas excessive body hair, and is obese. The ovaries\\nmay contain several cysts.\\nTurner syndrome—Chromosomal abnormality\\ncharacterized by immature reproductive organs in\\nwomen.\\nDescription\\nFolliculitis can affect both women and men at any\\nage. It can develop on any part of the body, but is most\\nlikely to occur on the scalp, face, or parts of the arms,\\narmpits, or legs not usually covered by clothing.\\nSmall, yellowish-white blister-like lumps (pustules)\\nsurrounded by narrow red rings are usually present with\\nboth bacterial folliculitis and fungal folliculitis. Hair can\\ngrow through or alongside of the pustules, which some-\\ntimes ooze blood-stained pus.\\nFolliculitis can cause boils and, in rare instances,\\nserious skin infections. Bacteria from folliculitis can enter')]"
      ]
     },
     "execution_count": 24,
     "metadata": {},
     "output_type": "execute_result"
    }
   ],
   "source": [
    "retrived_docs"
   ]
  },
  {
   "cell_type": "code",
   "execution_count": 26,
   "metadata": {},
   "outputs": [],
   "source": [
    "from langchain_google_genai import ChatGoogleGenerativeAI\n",
    "llm = ChatGoogleGenerativeAI(model='gemini-1.5-pro',max_tokens=500,temperature=0.3)"
   ]
  },
  {
   "cell_type": "code",
   "execution_count": 30,
   "metadata": {},
   "outputs": [],
   "source": [
    "from langchain.chains import create_retrieval_chain\n",
    "from langchain.chains.combine_documents import create_stuff_documents_chain\n",
    "from langchain_core.prompts import ChatPromptTemplate"
   ]
  },
  {
   "cell_type": "code",
   "execution_count": 31,
   "metadata": {},
   "outputs": [],
   "source": [
    "system_prompt = (\n",
    "    \"You are an medical assistant for question-answering task\"\n",
    "    \"Use the following pieces of retrieved context for answering the questions\"\n",
    "    \"If you don't know the answer say I don't know \"\n",
    "    \"Use five sentences maximum and keep the answer concise\"\n",
    "    \"\\n\\n\"\n",
    "    \"{context}\"\n",
    ")\n",
    "\n",
    "prompt = ChatPromptTemplate.from_messages(\n",
    "    [\n",
    "        (\"system\",system_prompt),\n",
    "        (\"human\",\"{input}\")\n",
    "    ]\n",
    "\n",
    ")"
   ]
  },
  {
   "cell_type": "code",
   "execution_count": 32,
   "metadata": {},
   "outputs": [],
   "source": [
    "question_answer_chain = create_stuff_documents_chain(llm,prompt=prompt)\n",
    "\n",
    "rag_chain = create_retrieval_chain(retriever,question_answer_chain)"
   ]
  },
  {
   "cell_type": "code",
   "execution_count": 35,
   "metadata": {},
   "outputs": [
    {
     "name": "stdout",
     "output_type": "stream",
     "text": [
      "Diabetes mellitus is a chronic disease characterized by the body's inability to produce or respond properly to insulin.  Insulin is needed to convert glucose (sugar) into energy.  Symptoms include frequent urination, lethargy, excessive thirst, and hunger. Treatment includes dietary changes, oral medication, and sometimes insulin injections.  Diabetes can lead to serious complications like kidney failure, heart disease, stroke, and blindness.\n",
      "\n"
     ]
    }
   ],
   "source": [
    "response = rag_chain.invoke({\"input\":\"What is Diabetes\"})\n",
    "print(response['answer'])"
   ]
  },
  {
   "cell_type": "code",
   "execution_count": null,
   "metadata": {},
   "outputs": [],
   "source": []
  }
 ],
 "metadata": {
  "kernelspec": {
   "display_name": "medicalbot",
   "language": "python",
   "name": "python3"
  },
  "language_info": {
   "codemirror_mode": {
    "name": "ipython",
    "version": 3
   },
   "file_extension": ".py",
   "mimetype": "text/x-python",
   "name": "python",
   "nbconvert_exporter": "python",
   "pygments_lexer": "ipython3",
   "version": "3.11.10"
  }
 },
 "nbformat": 4,
 "nbformat_minor": 2
}
